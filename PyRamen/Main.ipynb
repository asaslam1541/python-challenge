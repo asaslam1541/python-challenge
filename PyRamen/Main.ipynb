{
 "cells": [
  {
   "cell_type": "code",
   "execution_count": 2,
   "id": "35156b57-7804-40f6-815f-c22920c5344a",
   "metadata": {
    "tags": []
   },
   "outputs": [],
   "source": [
    "import csv"
   ]
  },
  {
   "cell_type": "code",
   "execution_count": 3,
   "id": "9fbeebf8-30d1-4b5f-a5bf-d82a86eded49",
   "metadata": {
    "tags": []
   },
   "outputs": [],
   "source": [
    "from pathlib import Path"
   ]
  },
  {
   "cell_type": "code",
   "execution_count": 4,
   "id": "3abe63e4-6943-4cba-b6dd-3fb6867ac893",
   "metadata": {
    "tags": []
   },
   "outputs": [],
   "source": [
    "filepath = Path(r\"C:\\Users\\5th gen\\Desktop\\FinTech & Machine Learning Bootcamp\\Challenges\\Module_2_Challenge\\menu_data.csv\")"
   ]
  },
  {
   "cell_type": "code",
   "execution_count": 5,
   "id": "04355665-85e9-4a90-8914-4ae6f8e8f7d5",
   "metadata": {
    "tags": []
   },
   "outputs": [],
   "source": [
    "menu = []"
   ]
  },
  {
   "cell_type": "code",
   "execution_count": 6,
   "id": "ffc62ce6-ceb8-41dd-8f11-57b0a4f42723",
   "metadata": {
    "tags": []
   },
   "outputs": [],
   "source": [
    "with open(filepath, 'r') as csvfile:\n",
    "    csvreader = csv.reader(csvfile)\n",
    "    next(csvreader)\n",
    "    for row in csvreader:\n",
    "        menu.append(row)"
   ]
  },
  {
   "cell_type": "code",
   "execution_count": 7,
   "id": "8e5cb61f-ead5-4fb9-9e35-0761d5cc3455",
   "metadata": {
    "tags": []
   },
   "outputs": [],
   "source": [
    "sales_file = Path(r\"C:\\Users\\5th gen\\Desktop\\FinTech & Machine Learning Bootcamp\\Challenges\\Module_2_Challenge\\sales_data.csv\")"
   ]
  },
  {
   "cell_type": "code",
   "execution_count": 8,
   "id": "9b6ec658-289e-465b-b6ef-7748f90b621d",
   "metadata": {
    "tags": []
   },
   "outputs": [],
   "source": [
    "sales = []"
   ]
  },
  {
   "cell_type": "code",
   "execution_count": 9,
   "id": "001b82df-9934-476a-897f-04f4407b3e62",
   "metadata": {
    "tags": []
   },
   "outputs": [],
   "source": [
    "with open(sales_file, 'r') as csvfile:\n",
    "    csvreader = csv.reader(csvfile)\n",
    "    next(csvreader)\n",
    "    for row in csvreader:\n",
    "        sales.append(row)"
   ]
  },
  {
   "cell_type": "code",
   "execution_count": 10,
   "id": "c9d1d09a-f023-4292-b3f6-9b1cf9e71800",
   "metadata": {
    "tags": []
   },
   "outputs": [],
   "source": [
    "report = {}"
   ]
  },
  {
   "cell_type": "code",
   "execution_count": 19,
   "id": "8990dc93-9cf1-41b5-a572-a514bd02ef70",
   "metadata": {
    "tags": []
   },
   "outputs": [
    {
     "name": "stdout",
     "output_type": "stream",
     "text": [
      "spicy miso ramen does not equal edamame! NO MATCH!\n",
      "spicy miso ramen does not equal house salad! NO MATCH!\n",
      "spicy miso ramen does not equal cucumber sunomono salad! NO MATCH!\n",
      "spicy miso ramen does not equal hiyashi wakame seaweed salad! NO MATCH!\n",
      "spicy miso ramen does not equal agedashi tofu! NO MATCH!\n",
      "spicy miso ramen does not equal hiyayakko tofu! NO MATCH!\n",
      "spicy miso ramen does not equal pork floss bao! NO MATCH!\n",
      "spicy miso ramen does not equal kakuni bao! NO MATCH!\n",
      "spicy miso ramen does not equal edamame fried gyoza (vegan)! NO MATCH!\n",
      "spicy miso ramen does not equal fried gyoza! NO MATCH!\n",
      "spicy miso ramen does not equal takoyaki! NO MATCH!\n",
      "spicy miso ramen does not equal rock shrimp tempura! NO MATCH!\n",
      "spicy miso ramen does not equal soft-shell crab tempura! NO MATCH!\n",
      "spicy miso ramen does not equal ebi katsu shrimp bao! NO MATCH!\n",
      "spicy miso ramen does not equal nagomi shoyu! NO MATCH!\n",
      "spicy miso ramen does not equal shio ramen! NO MATCH!\n"
     ]
    },
    {
     "ename": "KeyError",
     "evalue": "'spicy miso ramen'",
     "output_type": "error",
     "traceback": [
      "\u001b[1;31m---------------------------------------------------------------------------\u001b[0m",
      "\u001b[1;31mKeyError\u001b[0m                                  Traceback (most recent call last)",
      "Cell \u001b[1;32mIn[19], line 12\u001b[0m\n\u001b[0;32m     10\u001b[0m \u001b[38;5;28;01mif\u001b[39;00m sales_item \u001b[38;5;241m==\u001b[39m item_name:\n\u001b[0;32m     11\u001b[0m     profit \u001b[38;5;241m=\u001b[39m price \u001b[38;5;241m-\u001b[39m cost\n\u001b[1;32m---> 12\u001b[0m     \u001b[43mreport\u001b[49m\u001b[43m[\u001b[49m\u001b[43msales_item\u001b[49m\u001b[43m]\u001b[49m[\u001b[38;5;124m\"\u001b[39m\u001b[38;5;124m01-count\u001b[39m\u001b[38;5;124m\"\u001b[39m] \u001b[38;5;241m+\u001b[39m\u001b[38;5;241m=\u001b[39m quantity\n\u001b[0;32m     13\u001b[0m     report[sales_item][\u001b[38;5;124m\"\u001b[39m\u001b[38;5;124m02-revenue\u001b[39m\u001b[38;5;124m\"\u001b[39m] \u001b[38;5;241m+\u001b[39m\u001b[38;5;241m=\u001b[39m price \u001b[38;5;241m*\u001b[39m quantity\n\u001b[0;32m     14\u001b[0m     report[sales_item][\u001b[38;5;124m\"\u001b[39m\u001b[38;5;124m03-cogs\u001b[39m\u001b[38;5;124m\"\u001b[39m] \u001b[38;5;241m+\u001b[39m\u001b[38;5;241m=\u001b[39m cost \u001b[38;5;241m*\u001b[39m quantity\n",
      "\u001b[1;31mKeyError\u001b[0m: 'spicy miso ramen'"
     ]
    }
   ],
   "source": [
    "for sale in sales:\n",
    "    quantity = int(sale[3])\n",
    "    sales_item = sale[4]\n",
    "    if sales_item not in report:\n",
    "        {\"01-count\": 0, \"02-revenue\": 0, \"03-cogs\": 0, \"04-profit\": 0}\n",
    "    for item in menu:\n",
    "        item_name = item[0]\n",
    "        price = float(item[3])\n",
    "        cost = float(item[4])\n",
    "        if sales_item == item_name:\n",
    "            profit = price - cost\n",
    "            report[sales_item][\"01-count\"] += quantity\n",
    "            report[sales_item][\"02-revenue\"] += price * quantity\n",
    "            report[sales_item][\"03-cogs\"] += cost * quantity\n",
    "            report[sales_item][\"04-profit\"] += profit * quantity\n",
    "        else:\n",
    "            print(f\"{sales_item} does not equal {item_name}! NO MATCH!\")"
   ]
  },
  {
   "cell_type": "code",
   "execution_count": 17,
   "id": "b5745eb2-cd53-4501-8888-008616b029a0",
   "metadata": {
    "tags": []
   },
   "outputs": [
    {
     "ename": "NameError",
     "evalue": "name 'cogs' is not defined",
     "output_type": "error",
     "traceback": [
      "\u001b[1;31m---------------------------------------------------------------------------\u001b[0m",
      "\u001b[1;31mNameError\u001b[0m                                 Traceback (most recent call last)",
      "Cell \u001b[1;32mIn[17], line 1\u001b[0m\n\u001b[1;32m----> 1\u001b[0m \u001b[43mcogs\u001b[49m\n",
      "\u001b[1;31mNameError\u001b[0m: name 'cogs' is not defined"
     ]
    }
   ],
   "source": [
    "cogs"
   ]
  },
  {
   "cell_type": "code",
   "execution_count": 12,
   "id": "3731d701-7b27-426a-9e5a-9801a90c57b7",
   "metadata": {
    "tags": []
   },
   "outputs": [],
   "source": [
    "output_file1 = Path(r\"C:\\Users\\5th gen\\Desktop\\FinTech & Machine Learning Bootcamp\\Challenges\\Module_2_Challenge\\python-challenge\\PyRamen\\output_file.txt\")"
   ]
  },
  {
   "cell_type": "code",
   "execution_count": 13,
   "id": "a140b1b2-cc9f-46a2-b1da-e3bf3f7accf0",
   "metadata": {
    "tags": []
   },
   "outputs": [],
   "source": [
    "with open('output_file1', 'w') as file:\n",
    "    for key, value in report.items():\n",
    "        file.write(f\"{key} {value}\\n\")"
   ]
  },
  {
   "cell_type": "code",
   "execution_count": null,
   "id": "55942b0d-2ca8-45eb-a1ed-f8a94fcce2d2",
   "metadata": {},
   "outputs": [],
   "source": []
  }
 ],
 "metadata": {
  "kernelspec": {
   "display_name": "Python 3 (ipykernel)",
   "language": "python",
   "name": "python3"
  },
  "language_info": {
   "codemirror_mode": {
    "name": "ipython",
    "version": 3
   },
   "file_extension": ".py",
   "mimetype": "text/x-python",
   "name": "python",
   "nbconvert_exporter": "python",
   "pygments_lexer": "ipython3",
   "version": "3.10.12"
  }
 },
 "nbformat": 4,
 "nbformat_minor": 5
}
