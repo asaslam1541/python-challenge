{
 "cells": [
  {
   "cell_type": "code",
   "execution_count": 1,
   "id": "868e29d8-2af8-4598-a32b-c93f44faf3d0",
   "metadata": {
    "tags": []
   },
   "outputs": [],
   "source": [
    "from pathlib import Path"
   ]
  },
  {
   "cell_type": "code",
   "execution_count": 37,
   "id": "50562465-2d3f-4032-a5d5-f1af6b155942",
   "metadata": {
    "tags": []
   },
   "outputs": [],
   "source": [
    "budget_data_csv = Path(r\"C:\\Users\\5th gen\\Desktop\\FinTech & Machine Learning Bootcamp\\Challenges\\Module_2_Challenge\\budget_data.csv\")"
   ]
  },
  {
   "cell_type": "code",
   "execution_count": 38,
   "id": "cd200f9b-e64b-4a19-9542-7581f53e1edd",
   "metadata": {
    "tags": []
   },
   "outputs": [],
   "source": [
    "import csv"
   ]
  },
  {
   "cell_type": "code",
   "execution_count": 39,
   "id": "54789400-71ec-4564-9fbf-f145e3c8b992",
   "metadata": {
    "tags": []
   },
   "outputs": [],
   "source": [
    "total_months = 0\n",
    "net_total = 0\n",
    "previous_month_profit_loss = None\n",
    "monthly_changes = []\n",
    "greatest_increase = {\"date\": \"\", \"amount\": float('-inf')}\n",
    "greatest_decrease = {\"date\": \"\", \"amount\": float('inf')}"
   ]
  },
  {
   "cell_type": "code",
   "execution_count": 40,
   "id": "52d18198-2340-4ce2-910d-57f19252a088",
   "metadata": {
    "tags": []
   },
   "outputs": [],
   "source": [
    "with open(budget_data_csv, 'r') as csvfile:\n",
    "    reader = csv.reader(csvfile)\n",
    "    header = next(reader)\n",
    "    for row in reader:\n",
    "        date = row[0]\n",
    "        profit_loss = int(row[1])\n",
    "        total_months = total_months + 1\n",
    "        net_total = net_total + profit_loss\n",
    "        if previous_month_profit_loss is not None:\n",
    "            change = profit_loss - previous_month_profit_loss\n",
    "            monthly_changes.append(change)\n",
    "            if change > greatest_increase[\"amount\"]:\n",
    "                greatest_increase[\"date\"] = date\n",
    "                greatest_increase[\"amount\"] = change\n",
    "            if change < greatest_decrease[\"amount\"]:\n",
    "                greatest_decrease[\"date\"] = date\n",
    "                greatest_decrease[\"amount\"] = change\n",
    "        previous_month_profit_loss = profit_loss"
   ]
  },
  {
   "cell_type": "code",
   "execution_count": 41,
   "id": "284ddacc-adb7-440e-bff6-1070b8180742",
   "metadata": {
    "tags": []
   },
   "outputs": [],
   "source": [
    "average_change = sum(monthly_changes) / len(monthly_changes)"
   ]
  },
  {
   "cell_type": "code",
   "execution_count": 52,
   "id": "6ad78578-de20-4c51-b5dc-5305a0472231",
   "metadata": {
    "tags": []
   },
   "outputs": [
    {
     "data": {
      "text/plain": [
       "-2315.1176470588234"
      ]
     },
     "execution_count": 52,
     "metadata": {},
     "output_type": "execute_result"
    }
   ],
   "source": [
    "average_change"
   ]
  },
  {
   "cell_type": "code",
   "execution_count": 53,
   "id": "022f2e4c-d490-4012-8264-7b5e7a6b4c41",
   "metadata": {
    "tags": []
   },
   "outputs": [
    {
     "data": {
      "text/plain": [
       "-2315.12"
      ]
     },
     "execution_count": 53,
     "metadata": {},
     "output_type": "execute_result"
    }
   ],
   "source": [
    "round(average_change, 2)"
   ]
  },
  {
   "cell_type": "code",
   "execution_count": 54,
   "id": "2f91c8b9-56a1-4cc3-b597-30e26535a077",
   "metadata": {
    "tags": []
   },
   "outputs": [
    {
     "data": {
      "text/plain": [
       "86"
      ]
     },
     "execution_count": 54,
     "metadata": {},
     "output_type": "execute_result"
    }
   ],
   "source": [
    "total_months"
   ]
  },
  {
   "cell_type": "code",
   "execution_count": 55,
   "id": "ed5873ce-9786-4fac-a721-be2d9ec92a19",
   "metadata": {
    "tags": []
   },
   "outputs": [
    {
     "data": {
      "text/plain": [
       "{'date': 'Sep-2013', 'amount': -2196167}"
      ]
     },
     "execution_count": 55,
     "metadata": {},
     "output_type": "execute_result"
    }
   ],
   "source": [
    "greatest_decrease"
   ]
  },
  {
   "cell_type": "code",
   "execution_count": 56,
   "id": "7f0833e2-dbc0-418a-a62c-7b5ef02e2429",
   "metadata": {
    "tags": []
   },
   "outputs": [
    {
     "data": {
      "text/plain": [
       "{'date': 'Feb-2012', 'amount': 1926159}"
      ]
     },
     "execution_count": 56,
     "metadata": {},
     "output_type": "execute_result"
    }
   ],
   "source": [
    "greatest_increase"
   ]
  },
  {
   "cell_type": "code",
   "execution_count": 73,
   "id": "cb4a0410-8bbe-4880-8846-3b62ab1c84d8",
   "metadata": {
    "tags": []
   },
   "outputs": [
    {
     "name": "stdout",
     "output_type": "stream",
     "text": [
      "$38382578\n"
     ]
    }
   ],
   "source": [
    "print(f\"${net_total}\")"
   ]
  },
  {
   "cell_type": "code",
   "execution_count": 74,
   "id": "3b64e673-ab03-40f5-b37c-61bf875ca628",
   "metadata": {
    "tags": []
   },
   "outputs": [
    {
     "name": "stdout",
     "output_type": "stream",
     "text": [
      "Financial Analysis\n",
      "------------------\n",
      "Total Months: 86\n",
      "Total: $38382578\n",
      "Average Change: $-2315.12\n",
      "Greatest Increase in Profits: Feb-2012 ($1926159)\n",
      "Greatest Decrease in Profits: Sep-2013 ($-2196167)\n"
     ]
    }
   ],
   "source": [
    "print(\"Financial Analysis\")\n",
    "print(\"------------------\")\n",
    "print(f\"Total Months: {total_months}\")\n",
    "print(f\"Total: ${net_total}\")\n",
    "print(f\"Average Change: ${round(average_change, 2)}\")\n",
    "print(f\"Greatest Increase in Profits: {greatest_increase['date']} (${greatest_increase['amount']})\")\n",
    "print(f\"Greatest Decrease in Profits: {greatest_decrease['date']} (${greatest_decrease['amount']})\")"
   ]
  },
  {
   "cell_type": "code",
   "execution_count": 75,
   "id": "987d0e51-bfe7-497b-a628-1f91562387d0",
   "metadata": {
    "tags": []
   },
   "outputs": [],
   "source": [
    "output_csvfile = Path(r\"C:\\Users\\5th gen\\Desktop\\FinTech & Machine Learning Bootcamp\\Challenges\\Module_2_Challenge\\python-challenge\\PyBank\\output.txt\")"
   ]
  },
  {
   "cell_type": "code",
   "execution_count": 82,
   "id": "b4e4f799-f1eb-4cbd-a2ae-3c8c30d7a377",
   "metadata": {
    "tags": []
   },
   "outputs": [],
   "source": [
    "with open(output_csvfile, 'w') as file:\n",
    "    file.write(\"Financial Analysis\\n\")\n",
    "    file.write(\"------------------\\n\")\n",
    "    file.write(f\"Total Months: {total_months}\\n\")\n",
    "    file.write(f\"Total: ${net_total}\\n\")\n",
    "    file.write(f\"Average Change: ${round(average_change, 2)}\\n\")\n",
    "    file.write(f\"Greatest Increase in Profits: {greatest_increase['date']} (${greatest_increase['amount']})\\n\")\n",
    "    file.write(f\"Greatest Decrease in Profits: {greatest_decrease['date']} (${greatest_decrease['amount']}\\n\")"
   ]
  }
 ],
 "metadata": {
  "kernelspec": {
   "display_name": "Python 3 (ipykernel)",
   "language": "python",
   "name": "python3"
  },
  "language_info": {
   "codemirror_mode": {
    "name": "ipython",
    "version": 3
   },
   "file_extension": ".py",
   "mimetype": "text/x-python",
   "name": "python",
   "nbconvert_exporter": "python",
   "pygments_lexer": "ipython3",
   "version": "3.10.12"
  }
 },
 "nbformat": 4,
 "nbformat_minor": 5
}
